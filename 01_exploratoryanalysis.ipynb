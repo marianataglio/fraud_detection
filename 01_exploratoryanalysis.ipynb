{
 "cells": [
  {
   "cell_type": "markdown",
   "metadata": {},
   "source": [
    "## TP Detección de fraude\n",
    "Dataset descargado de:  https://www.kaggle.com/datasets/rupakroy/online-payments-fraud-detection-dataset"
   ]
  },
  {
   "cell_type": "code",
   "execution_count": 1,
   "metadata": {},
   "outputs": [],
   "source": [
    "import os\n",
    "import pandas as pd\n",
    "import numpy as np\n",
    "import seaborn as sns\n",
    "import matplotlib.pyplot as plt\n",
    "import plotly.express as px\n",
    "from sklearn.metrics import accuracy_score,plot_confusion_matrix,roc_auc_score, classification_report, confusion_matrix, precision_recall_curve, auc, roc_curve\n"
   ]
  },
  {
   "cell_type": "code",
   "execution_count": 2,
   "metadata": {},
   "outputs": [],
   "source": [
    "fraud_dataset = pd.read_csv('./data/PS_20174392719_1491204439457_log.csv')"
   ]
  },
  {
   "cell_type": "code",
   "execution_count": 4,
   "metadata": {},
   "outputs": [
    {
     "data": {
      "text/html": [
       "<div>\n",
       "<style scoped>\n",
       "    .dataframe tbody tr th:only-of-type {\n",
       "        vertical-align: middle;\n",
       "    }\n",
       "\n",
       "    .dataframe tbody tr th {\n",
       "        vertical-align: top;\n",
       "    }\n",
       "\n",
       "    .dataframe thead th {\n",
       "        text-align: right;\n",
       "    }\n",
       "</style>\n",
       "<table border=\"1\" class=\"dataframe\">\n",
       "  <thead>\n",
       "    <tr style=\"text-align: right;\">\n",
       "      <th></th>\n",
       "      <th>step</th>\n",
       "      <th>type</th>\n",
       "      <th>amount</th>\n",
       "      <th>nameOrig</th>\n",
       "      <th>oldbalanceOrg</th>\n",
       "      <th>newbalanceOrig</th>\n",
       "      <th>nameDest</th>\n",
       "      <th>oldbalanceDest</th>\n",
       "      <th>newbalanceDest</th>\n",
       "      <th>isFraud</th>\n",
       "      <th>isFlaggedFraud</th>\n",
       "    </tr>\n",
       "  </thead>\n",
       "  <tbody>\n",
       "    <tr>\n",
       "      <th>0</th>\n",
       "      <td>1</td>\n",
       "      <td>PAYMENT</td>\n",
       "      <td>9839.64</td>\n",
       "      <td>C1231006815</td>\n",
       "      <td>170136.0</td>\n",
       "      <td>160296.36</td>\n",
       "      <td>M1979787155</td>\n",
       "      <td>0.0</td>\n",
       "      <td>0.0</td>\n",
       "      <td>0</td>\n",
       "      <td>0</td>\n",
       "    </tr>\n",
       "    <tr>\n",
       "      <th>1</th>\n",
       "      <td>1</td>\n",
       "      <td>PAYMENT</td>\n",
       "      <td>1864.28</td>\n",
       "      <td>C1666544295</td>\n",
       "      <td>21249.0</td>\n",
       "      <td>19384.72</td>\n",
       "      <td>M2044282225</td>\n",
       "      <td>0.0</td>\n",
       "      <td>0.0</td>\n",
       "      <td>0</td>\n",
       "      <td>0</td>\n",
       "    </tr>\n",
       "    <tr>\n",
       "      <th>2</th>\n",
       "      <td>1</td>\n",
       "      <td>TRANSFER</td>\n",
       "      <td>181.00</td>\n",
       "      <td>C1305486145</td>\n",
       "      <td>181.0</td>\n",
       "      <td>0.00</td>\n",
       "      <td>C553264065</td>\n",
       "      <td>0.0</td>\n",
       "      <td>0.0</td>\n",
       "      <td>1</td>\n",
       "      <td>0</td>\n",
       "    </tr>\n",
       "    <tr>\n",
       "      <th>3</th>\n",
       "      <td>1</td>\n",
       "      <td>CASH_OUT</td>\n",
       "      <td>181.00</td>\n",
       "      <td>C840083671</td>\n",
       "      <td>181.0</td>\n",
       "      <td>0.00</td>\n",
       "      <td>C38997010</td>\n",
       "      <td>21182.0</td>\n",
       "      <td>0.0</td>\n",
       "      <td>1</td>\n",
       "      <td>0</td>\n",
       "    </tr>\n",
       "    <tr>\n",
       "      <th>4</th>\n",
       "      <td>1</td>\n",
       "      <td>PAYMENT</td>\n",
       "      <td>11668.14</td>\n",
       "      <td>C2048537720</td>\n",
       "      <td>41554.0</td>\n",
       "      <td>29885.86</td>\n",
       "      <td>M1230701703</td>\n",
       "      <td>0.0</td>\n",
       "      <td>0.0</td>\n",
       "      <td>0</td>\n",
       "      <td>0</td>\n",
       "    </tr>\n",
       "  </tbody>\n",
       "</table>\n",
       "</div>"
      ],
      "text/plain": [
       "   step      type    amount     nameOrig  oldbalanceOrg  newbalanceOrig  \\\n",
       "0     1   PAYMENT   9839.64  C1231006815       170136.0       160296.36   \n",
       "1     1   PAYMENT   1864.28  C1666544295        21249.0        19384.72   \n",
       "2     1  TRANSFER    181.00  C1305486145          181.0            0.00   \n",
       "3     1  CASH_OUT    181.00   C840083671          181.0            0.00   \n",
       "4     1   PAYMENT  11668.14  C2048537720        41554.0        29885.86   \n",
       "\n",
       "      nameDest  oldbalanceDest  newbalanceDest  isFraud  isFlaggedFraud  \n",
       "0  M1979787155             0.0             0.0        0               0  \n",
       "1  M2044282225             0.0             0.0        0               0  \n",
       "2   C553264065             0.0             0.0        1               0  \n",
       "3    C38997010         21182.0             0.0        1               0  \n",
       "4  M1230701703             0.0             0.0        0               0  "
      ]
     },
     "execution_count": 4,
     "metadata": {},
     "output_type": "execute_result"
    }
   ],
   "source": [
    "fraud_dataset.head()"
   ]
  },
  {
   "cell_type": "markdown",
   "metadata": {},
   "source": [
    "* step: represents a unit of time where 1 step equals 1 hour\n",
    "* type: type of online transaction\n",
    "* amount: the amount of the transaction\n",
    "* nameOrig: customer starting the transaction\n",
    "* oldbalanceOrg: balance before the transaction\n",
    "* newbalanceOrig: balance after the transaction\n",
    "* nameDest: recipient of the transaction\n",
    "* oldbalanceDest: initial balance of recipient before the transaction\n",
    "* newbalanceDest: the new balance of recipient after the transaction\n",
    "* isFraud: fraud transaction"
   ]
  },
  {
   "cell_type": "code",
   "execution_count": 5,
   "metadata": {},
   "outputs": [
    {
     "data": {
      "text/plain": [
       "(6362620, 11)"
      ]
     },
     "execution_count": 5,
     "metadata": {},
     "output_type": "execute_result"
    }
   ],
   "source": [
    "fraud_dataset.shape"
   ]
  },
  {
   "cell_type": "code",
   "execution_count": 6,
   "metadata": {},
   "outputs": [
    {
     "data": {
      "text/plain": [
       "step              0\n",
       "type              0\n",
       "amount            0\n",
       "nameOrig          0\n",
       "oldbalanceOrg     0\n",
       "newbalanceOrig    0\n",
       "nameDest          0\n",
       "oldbalanceDest    0\n",
       "newbalanceDest    0\n",
       "isFraud           0\n",
       "isFlaggedFraud    0\n",
       "dtype: int64"
      ]
     },
     "execution_count": 6,
     "metadata": {},
     "output_type": "execute_result"
    }
   ],
   "source": [
    "#Chequear si hay nulos\n",
    "fraud_dataset.isnull().sum()"
   ]
  },
  {
   "cell_type": "code",
   "execution_count": 7,
   "metadata": {},
   "outputs": [
    {
     "data": {
      "text/plain": [
       "step                int64\n",
       "type               object\n",
       "amount            float64\n",
       "nameOrig           object\n",
       "oldbalanceOrg     float64\n",
       "newbalanceOrig    float64\n",
       "nameDest           object\n",
       "oldbalanceDest    float64\n",
       "newbalanceDest    float64\n",
       "isFraud             int64\n",
       "isFlaggedFraud      int64\n",
       "dtype: object"
      ]
     },
     "execution_count": 7,
     "metadata": {},
     "output_type": "execute_result"
    }
   ],
   "source": [
    "#Dtype de las columnas\n",
    "fraud_dataset.dtypes"
   ]
  },
  {
   "cell_type": "markdown",
   "metadata": {},
   "source": [
    "### Distribución de variables"
   ]
  },
  {
   "cell_type": "code",
   "execution_count": 8,
   "metadata": {},
   "outputs": [
    {
     "name": "stderr",
     "output_type": "stream",
     "text": [
      "/Users/mtaglio/anaconda3/lib/python3.9/site-packages/seaborn/distributions.py:2619: FutureWarning: `distplot` is a deprecated function and will be removed in a future version. Please adapt your code to use either `displot` (a figure-level function with similar flexibility) or `histplot` (an axes-level function for histograms).\n",
      "  warnings.warn(msg, FutureWarning)\n"
     ]
    },
    {
     "data": {
      "text/plain": [
       "<AxesSubplot:xlabel='step', ylabel='Density'>"
      ]
     },
     "execution_count": 8,
     "metadata": {},
     "output_type": "execute_result"
    },
    {
     "data": {
      "image/png": "[encoded data removed]",
      "text/plain": [
       "<Figure size 1080x432 with 1 Axes>"
      ]
     },
     "metadata": {
      "needs_background": "light"
     },
     "output_type": "display_data"
    }
   ],
   "source": [
    "fraud_dataset['step'].value_counts()\n",
    "plt.figure(figsize=(15,6))\n",
    "sns.distplot(fraud_dataset['step'],bins=100)"
   ]
  },
  {
   "cell_type": "code",
   "execution_count": 15,
   "metadata": {},
   "outputs": [
    {
     "name": "stdout",
     "output_type": "stream",
     "text": [
      "Distribución de la variable type\n",
      "CASH_OUT    2237500\n",
      "PAYMENT     2151495\n",
      "CASH_IN     1399284\n",
      "TRANSFER     532909\n",
      "DEBIT         41432\n",
      "Name: type, dtype: int64\n"
     ]
    },
    {
     "data": {
      "application/vnd.plotly.v1+json": {
       "config": {
        "plotlyServerURL": "https://plot.ly"
       },
       "data": [
        {
         "domain": {
          "x": [
           0,
           1
          ],
          "y": [
           0,
           1
          ]
         },
         "hole": 0.3,
         "hovertemplate": "label=%{label}<br>value=%{value}<extra></extra>",
         "labels": [
          "CASH_OUT",
          "PAYMENT",
          "CASH_IN",
          "TRANSFER",
          "DEBIT"
         ],
         "legendgroup": "",
         "name": "",
         "showlegend": true,
         "type": "pie",
         "values": [
          2237500,
          2151495,
          1399284,
          532909,
          41432
         ]
        }
       ],
       "layout": {
        "legend": {
         "tracegroupgap": 0
        },
        "template": {
         "data": {
          "bar": [
           {
            "error_x": {
             "color": "#2a3f5f"
            },
            "error_y": {
             "color": "#2a3f5f"
            },
            "marker": {
             "line": {
              "color": "#E5ECF6",
              "width": 0.5
             },
             "pattern": {
              "fillmode": "overlay",
              "size": 10,
              "solidity": 0.2
             }
            },
            "type": "bar"
           }
          ],
          "barpolar": [
           {
            "marker": {
             "line": {
              "color": "#E5ECF6",
              "width": 0.5
             },
             "pattern": {
              "fillmode": "overlay",
              "size": 10,
              "solidity": 0.2
             }
            },
            "type": "barpolar"
           }
          ],
          "carpet": [
           {
            "aaxis": {
             "endlinecolor": "#2a3f5f",
             "gridcolor": "white",
             "linecolor": "white",
             "minorgridcolor": "white",
             "startlinecolor": "#2a3f5f"
            },
            "baxis": {
             "endlinecolor": "#2a3f5f",
             "gridcolor": "white",
             "linecolor": "white",
             "minorgridcolor": "white",
             "startlinecolor": "#2a3f5f"
            },
            "type": "carpet"
           }
          ],
          "choropleth": [
           {
            "colorbar": {
             "outlinewidth": 0,
             "ticks": ""
            },
            "type": "choropleth"
           }
          ],
          "contour": [
           {
            "colorbar": {
             "outlinewidth": 0,
             "ticks": ""
            },
            "colorscale": [
             [
              0,
              "#0d0887"
             ],
             [
              0.1111111111111111,
              "#46039f"
             ],
             [
              0.2222222222222222,
              "#7201a8"
             ],
             [
              0.3333333333333333,
              "#9c179e"
             ],
             [
              0.4444444444444444,
              "#bd3786"
             ],
             [
              0.5555555555555556,
              "#d8576b"
             ],
             [
              0.6666666666666666,
              "#ed7953"
             ],
             [
              0.7777777777777778,
              "#fb9f3a"
             ],
             [
              0.8888888888888888,
              "#fdca26"
             ],
             [
              1,
              "#f0f921"
             ]
            ],
            "type": "contour"
           }
          ],
          "contourcarpet": [
           {
            "colorbar": {
             "outlinewidth": 0,
             "ticks": ""
            },
            "type": "contourcarpet"
           }
          ],
          "heatmap": [
           {
            "colorbar": {
             "outlinewidth": 0,
             "ticks": ""
            },
            "colorscale": [
             [
              0,
              "#0d0887"
             ],
             [
              0.1111111111111111,
              "#46039f"
             ],
             [
              0.2222222222222222,
              "#7201a8"
             ],
             [
              0.3333333333333333,
              "#9c179e"
             ],
             [
              0.4444444444444444,
              "#bd3786"
             ],
             [
              0.5555555555555556,
              "#d8576b"
             ],
             [
              0.6666666666666666,
              "#ed7953"
             ],
             [
              0.7777777777777778,
              "#fb9f3a"
             ],
             [
              0.8888888888888888,
              "#fdca26"
             ],
             [
              1,
              "#f0f921"
             ]
            ],
            "type": "heatmap"
           }
          ],
          "heatmapgl": [
           {
            "colorbar": {
             "outlinewidth": 0,
             "ticks": ""
            },
            "colorscale": [
             [
              0,
              "#0d0887"
             ],
             [
              0.1111111111111111,
              "#46039f"
             ],
             [
              0.2222222222222222,
              "#7201a8"
             ],
             [
              0.3333333333333333,
              "#9c179e"
             ],
             [
              0.4444444444444444,
              "#bd3786"
             ],
             [
              0.5555555555555556,
              "#d8576b"
             ],
             [
              0.6666666666666666,
              "#ed7953"
             ],
             [
              0.7777777777777778,
              "#fb9f3a"
             ],
             [
              0.8888888888888888,
              "#fdca26"
             ],
             [
              1,
              "#f0f921"
             ]
            ],
            "type": "heatmapgl"
           }
          ],
          "histogram": [
           {
            "marker": {
             "pattern": {
              "fillmode": "overlay",
              "size": 10,
              "solidity": 0.2
             }
            },
            "type": "histogram"
           }
          ],
          "histogram2d": [
           {
            "colorbar": {
             "outlinewidth": 0,
             "ticks": ""
            },
            "colorscale": [
             [
              0,
              "#0d0887"
             ],
             [
              0.1111111111111111,
              "#46039f"
             ],
             [
              0.2222222222222222,
              "#7201a8"
             ],
             [
              0.3333333333333333,
              "#9c179e"
             ],
             [
              0.4444444444444444,
              "#bd3786"
             ],
             [
              0.5555555555555556,
              "#d8576b"
             ],
             [
              0.6666666666666666,
              "#ed7953"
             ],
             [
              0.7777777777777778,
              "#fb9f3a"
             ],
             [
              0.8888888888888888,
              "#fdca26"
             ],
             [
              1,
              "#f0f921"
             ]
            ],
            "type": "histogram2d"
           }
          ],
          "histogram2dcontour": [
           {
            "colorbar": {
             "outlinewidth": 0,
             "ticks": ""
            },
            "colorscale": [
             [
              0,
              "#0d0887"
             ],
             [
              0.1111111111111111,
              "#46039f"
             ],
             [
              0.2222222222222222,
              "#7201a8"
             ],
             [
              0.3333333333333333,
              "#9c179e"
             ],
             [
              0.4444444444444444,
              "#bd3786"
             ],
             [
              0.5555555555555556,
              "#d8576b"
             ],
             [
              0.6666666666666666,
              "#ed7953"
             ],
             [
              0.7777777777777778,
              "#fb9f3a"
             ],
             [
              0.8888888888888888,
              "#fdca26"
             ],
             [
              1,
              "#f0f921"
             ]
            ],
            "type": "histogram2dcontour"
           }
          ],
          "mesh3d": [
           {
            "colorbar": {
             "outlinewidth": 0,
             "ticks": ""
            },
            "type": "mesh3d"
           }
          ],
          "parcoords": [
           {
            "line": {
             "colorbar": {
              "outlinewidth": 0,
              "ticks": ""
             }
            },
            "type": "parcoords"
           }
          ],
          "pie": [
           {
            "automargin": true,
            "type": "pie"
           }
          ],
          "scatter": [
           {
            "fillpattern": {
             "fillmode": "overlay",
             "size": 10,
             "solidity": 0.2
            },
            "type": "scatter"
           }
          ],
          "scatter3d": [
           {
            "line": {
             "colorbar": {
              "outlinewidth": 0,
              "ticks": ""
             }
            },
            "marker": {
             "colorbar": {
              "outlinewidth": 0,
              "ticks": ""
             }
            },
            "type": "scatter3d"
           }
          ],
          "scattercarpet": [
           {
            "marker": {
             "colorbar": {
              "outlinewidth": 0,
              "ticks": ""
             }
            },
            "type": "scattercarpet"
           }
          ],
          "scattergeo": [
           {
            "marker": {
             "colorbar": {
              "outlinewidth": 0,
              "ticks": ""
             }
            },
            "type": "scattergeo"
           }
          ],
          "scattergl": [
           {
            "marker": {
             "colorbar": {
              "outlinewidth": 0,
              "ticks": ""
             }
            },
            "type": "scattergl"
           }
          ],
          "scattermapbox": [
           {
            "marker": {
             "colorbar": {
              "outlinewidth": 0,
              "ticks": ""
             }
            },
            "type": "scattermapbox"
           }
          ],
          "scatterpolar": [
           {
            "marker": {
             "colorbar": {
              "outlinewidth": 0,
              "ticks": ""
             }
            },
            "type": "scatterpolar"
           }
          ],
          "scatterpolargl": [
           {
            "marker": {
             "colorbar": {
              "outlinewidth": 0,
              "ticks": ""
             }
            },
            "type": "scatterpolargl"
           }
          ],
          "scatterternary": [
           {
            "marker": {
             "colorbar": {
              "outlinewidth": 0,
              "ticks": ""
             }
            },
            "type": "scatterternary"
           }
          ],
          "surface": [
           {
            "colorbar": {
             "outlinewidth": 0,
             "ticks": ""
            },
            "colorscale": [
             [
              0,
              "#0d0887"
             ],
             [
              0.1111111111111111,
              "#46039f"
             ],
             [
              0.2222222222222222,
              "#7201a8"
             ],
             [
              0.3333333333333333,
              "#9c179e"
             ],
             [
              0.4444444444444444,
              "#bd3786"
             ],
             [
              0.5555555555555556,
              "#d8576b"
             ],
             [
              0.6666666666666666,
              "#ed7953"
             ],
             [
              0.7777777777777778,
              "#fb9f3a"
             ],
             [
              0.8888888888888888,
              "#fdca26"
             ],
             [
              1,
              "#f0f921"
             ]
            ],
            "type": "surface"
           }
          ],
          "table": [
           {
            "cells": {
             "fill": {
              "color": "#EBF0F8"
             },
             "line": {
              "color": "white"
             }
            },
            "header": {
             "fill": {
              "color": "#C8D4E3"
             },
             "line": {
              "color": "white"
             }
            },
            "type": "table"
           }
          ]
         },
         "layout": {
          "annotationdefaults": {
           "arrowcolor": "#2a3f5f",
           "arrowhead": 0,
           "arrowwidth": 1
          },
          "autotypenumbers": "strict",
          "coloraxis": {
           "colorbar": {
            "outlinewidth": 0,
            "ticks": ""
           }
          },
          "colorscale": {
           "diverging": [
            [
             0,
             "#8e0152"
            ],
            [
             0.1,
             "#c51b7d"
            ],
            [
             0.2,
             "#de77ae"
            ],
            [
             0.3,
             "#f1b6da"
            ],
            [
             0.4,
             "#fde0ef"
            ],
            [
             0.5,
             "#f7f7f7"
            ],
            [
             0.6,
             "#e6f5d0"
            ],
            [
             0.7,
             "#b8e186"
            ],
            [
             0.8,
             "#7fbc41"
            ],
            [
             0.9,
             "#4d9221"
            ],
            [
             1,
             "#276419"
            ]
           ],
           "sequential": [
            [
             0,
             "#0d0887"
            ],
            [
             0.1111111111111111,
             "#46039f"
            ],
            [
             0.2222222222222222,
             "#7201a8"
            ],
            [
             0.3333333333333333,
             "#9c179e"
            ],
            [
             0.4444444444444444,
             "#bd3786"
            ],
            [
             0.5555555555555556,
             "#d8576b"
            ],
            [
             0.6666666666666666,
             "#ed7953"
            ],
            [
             0.7777777777777778,
             "#fb9f3a"
            ],
            [
             0.8888888888888888,
             "#fdca26"
            ],
            [
             1,
             "#f0f921"
            ]
           ],
           "sequentialminus": [
            [
             0,
             "#0d0887"
            ],
            [
             0.1111111111111111,
             "#46039f"
            ],
            [
             0.2222222222222222,
             "#7201a8"
            ],
            [
             0.3333333333333333,
             "#9c179e"
            ],
            [
             0.4444444444444444,
             "#bd3786"
            ],
            [
             0.5555555555555556,
             "#d8576b"
            ],
            [
             0.6666666666666666,
             "#ed7953"
            ],
            [
             0.7777777777777778,
             "#fb9f3a"
            ],
            [
             0.8888888888888888,
             "#fdca26"
            ],
            [
             1,
             "#f0f921"
            ]
           ]
          },
          "colorway": [
           "#636efa",
           "#EF553B",
           "#00cc96",
           "#ab63fa",
           "#FFA15A",
           "#19d3f3",
           "#FF6692",
           "#B6E880",
           "#FF97FF",
           "#FECB52"
          ],
          "font": {
           "color": "#2a3f5f"
          },
          "geo": {
           "bgcolor": "white",
           "lakecolor": "white",
           "landcolor": "#E5ECF6",
           "showlakes": true,
           "showland": true,
           "subunitcolor": "white"
          },
          "hoverlabel": {
           "align": "left"
          },
          "hovermode": "closest",
          "mapbox": {
           "style": "light"
          },
          "paper_bgcolor": "white",
          "plot_bgcolor": "#E5ECF6",
          "polar": {
           "angularaxis": {
            "gridcolor": "white",
            "linecolor": "white",
            "ticks": ""
           },
           "bgcolor": "#E5ECF6",
           "radialaxis": {
            "gridcolor": "white",
            "linecolor": "white",
            "ticks": ""
           }
          },
          "scene": {
           "xaxis": {
            "backgroundcolor": "#E5ECF6",
            "gridcolor": "white",
            "gridwidth": 2,
            "linecolor": "white",
            "showbackground": true,
            "ticks": "",
            "zerolinecolor": "white"
           },
           "yaxis": {
            "backgroundcolor": "#E5ECF6",
            "gridcolor": "white",
            "gridwidth": 2,
            "linecolor": "white",
            "showbackground": true,
            "ticks": "",
            "zerolinecolor": "white"
           },
           "zaxis": {
            "backgroundcolor": "#E5ECF6",
            "gridcolor": "white",
            "gridwidth": 2,
            "linecolor": "white",
            "showbackground": true,
            "ticks": "",
            "zerolinecolor": "white"
           }
          },
          "shapedefaults": {
           "line": {
            "color": "#2a3f5f"
           }
          },
          "ternary": {
           "aaxis": {
            "gridcolor": "white",
            "linecolor": "white",
            "ticks": ""
           },
           "baxis": {
            "gridcolor": "white",
            "linecolor": "white",
            "ticks": ""
           },
           "bgcolor": "#E5ECF6",
           "caxis": {
            "gridcolor": "white",
            "linecolor": "white",
            "ticks": ""
           }
          },
          "title": {
           "x": 0.05
          },
          "xaxis": {
           "automargin": true,
           "gridcolor": "white",
           "linecolor": "white",
           "ticks": "",
           "title": {
            "standoff": 15
           },
           "zerolinecolor": "white",
           "zerolinewidth": 2
          },
          "yaxis": {
           "automargin": true,
           "gridcolor": "white",
           "linecolor": "white",
           "ticks": "",
           "title": {
            "standoff": 15
           },
           "zerolinecolor": "white",
           "zerolinewidth": 2
          }
         }
        },
        "title": {
         "text": "Distribución de la variable type"
        }
       }
      }
     },
     "metadata": {},
     "output_type": "display_data"
    }
   ],
   "source": [
    "print('Distribución de la variable type')\n",
    "print(fraud_dataset['type'].value_counts())\n",
    "\n",
    "type = fraud_dataset.type.value_counts()\n",
    "transaction = type.index\n",
    "quantity = type.values\n",
    "\n",
    "figure = px.pie(fraud_dataset,\n",
    "               values = quantity,\n",
    "               names = transaction,\n",
    "               hole = .3,\n",
    "               title = 'Distribución de la variable type')\n",
    "figure.show()"
   ]
  },
  {
   "cell_type": "code",
   "execution_count": 9,
   "metadata": {},
   "outputs": [
    {
     "data": {
      "text/plain": [
       "<AxesSubplot:xlabel='type', ylabel='amount'>"
      ]
     },
     "execution_count": 9,
     "metadata": {},
     "output_type": "execute_result"
    },
    {
     "data": {
      "image/png": "[encoded data removed]",
      "text/plain": [
       "<Figure size 432x288 with 1 Axes>"
      ]
     },
     "metadata": {
      "needs_background": "light"
     },
     "output_type": "display_data"
    }
   ],
   "source": [
    "sns.barplot(x='type',y='amount',data=fraud_dataset)"
   ]
  },
  {
   "cell_type": "markdown",
   "metadata": {},
   "source": [
    "La transacción con más observaciones es CASH_OUT seguida de PAYMENT.  Las operaciones con montos más altos son de tipo TRANSFER."
   ]
  },
  {
   "cell_type": "code",
   "execution_count": 19,
   "metadata": {},
   "outputs": [
    {
     "name": "stderr",
     "output_type": "stream",
     "text": [
      "/Users/mtaglio/anaconda3/lib/python3.9/site-packages/seaborn/distributions.py:2619: FutureWarning:\n",
      "\n",
      "`distplot` is a deprecated function and will be removed in a future version. Please adapt your code to use either `displot` (a figure-level function with similar flexibility) or `histplot` (an axes-level function for histograms).\n",
      "\n"
     ]
    },
    {
     "data": {
      "image/png": "[encoded data removed]",
      "text/plain": [
       "<Figure size 432x288 with 1 Axes>"
      ]
     },
     "metadata": {
      "needs_background": "light"
     },
     "output_type": "display_data"
    }
   ],
   "source": [
    "fraud_dataset['amount'].value_counts()\n",
    "fig = plt.figure()\n",
    "sns.distplot(fraud_dataset['amount'])\n",
    "plt.title('Distribución del valor de la transacción (amount)')\n",
    "plt.show(fig)"
   ]
  },
  {
   "cell_type": "markdown",
   "metadata": {},
   "source": [
    "Distribución asimétrica negativa (left-skewed)."
   ]
  },
  {
   "cell_type": "markdown",
   "metadata": {},
   "source": []
  },
  {
   "cell_type": "code",
   "execution_count": 21,
   "metadata": {},
   "outputs": [
    {
     "data": {
      "image/png": "[encoded data removed]",
      "text/plain": [
       "<Figure size 432x288 with 1 Axes>"
      ]
     },
     "metadata": {
      "needs_background": "light"
     },
     "output_type": "display_data"
    }
   ],
   "source": [
    "#Distribución variable de salida isFraud\n",
    "fig = plt.figure()\n",
    "ax = sns.countplot(x='isFraud', data=fraud_dataset)\n",
    "for container in ax.containers:\n",
    "    ax.bar_label(container)\n",
    "plt.tight_layout()\n",
    "plt.title('Casos de Fraude')\n",
    "plt.show(fig)\n"
   ]
  },
  {
   "cell_type": "code",
   "execution_count": 27,
   "metadata": {},
   "outputs": [
    {
     "data": {
      "text/plain": [
       "0    6354407\n",
       "1       8213\n",
       "Name: isFraud, dtype: int64"
      ]
     },
     "execution_count": 27,
     "metadata": {},
     "output_type": "execute_result"
    }
   ],
   "source": [
    "fraud_dataset['isFraud'].value_counts()"
   ]
  },
  {
   "cell_type": "markdown",
   "metadata": {},
   "source": [
    "Aproximadamente un 0,13% de las transacciones fueron clasificadas como fraude. Como se puede ver en el gráfico el dataset no está balanceado."
   ]
  },
  {
   "cell_type": "markdown",
   "metadata": {},
   "source": [
    "### Correlaciones"
   ]
  },
  {
   "cell_type": "code",
   "execution_count": 34,
   "metadata": {},
   "outputs": [
    {
     "data": {
      "text/plain": [
       "<AxesSubplot:>"
      ]
     },
     "execution_count": 34,
     "metadata": {},
     "output_type": "execute_result"
    },
    {
     "data": {
      "image/png": "[encoded data removed]",
      "text/plain": [
       "<Figure size 432x288 with 2 Axes>"
      ]
     },
     "metadata": {
      "needs_background": "light"
     },
     "output_type": "display_data"
    }
   ],
   "source": [
    "#Chequear correlaciones de las features con la variable de salida isFraud\n",
    "heatmap(fraud_dataset.corr())"
   ]
  },
  {
   "cell_type": "code",
   "execution_count": 24,
   "metadata": {},
   "outputs": [
    {
     "data": {
      "text/plain": [
       "step            step              1.000000\n",
       "oldbalanceOrg   newbalanceOrig    0.998803\n",
       "newbalanceDest  oldbalanceDest    0.976569\n",
       "                amount            0.459304\n",
       "amount          oldbalanceDest    0.294137\n",
       "                isFraud           0.076688\n",
       "newbalanceOrig  oldbalanceDest    0.067812\n",
       "oldbalanceDest  oldbalanceOrg     0.066243\n",
       "isFraud         isFlaggedFraud    0.044109\n",
       "oldbalanceOrg   newbalanceDest    0.042029\n",
       "newbalanceDest  newbalanceOrig    0.041837\n",
       "step            isFraud           0.031578\n",
       "                oldbalanceDest    0.027665\n",
       "                newbalanceDest    0.025888\n",
       "                amount            0.022373\n",
       "isFlaggedFraud  amount            0.012295\n",
       "isFraud         oldbalanceOrg     0.010154\n",
       "isFlaggedFraud  oldbalanceOrg     0.003835\n",
       "newbalanceOrig  isFlaggedFraud    0.003776\n",
       "isFlaggedFraud  step              0.003277\n",
       "newbalanceDest  isFraud           0.000535\n",
       "oldbalanceDest  isFlaggedFraud   -0.000513\n",
       "isFlaggedFraud  newbalanceDest   -0.000529\n",
       "amount          oldbalanceOrg    -0.002762\n",
       "isFraud         oldbalanceDest   -0.005885\n",
       "amount          newbalanceOrig   -0.007861\n",
       "newbalanceOrig  isFraud          -0.008148\n",
       "step            oldbalanceOrg    -0.010058\n",
       "newbalanceOrig  step             -0.010299\n",
       "dtype: float64"
      ]
     },
     "execution_count": 24,
     "metadata": {},
     "output_type": "execute_result"
    }
   ],
   "source": [
    "fraud_dataset.corr().unstack().sort_values(ascending=False).drop_duplicates()"
   ]
  },
  {
   "cell_type": "markdown",
   "metadata": {},
   "source": [
    "Hay correlación alta entre oldbalanceOrg y newbalanceOrg y entre oldbalanceDest y newbalanceDest."
   ]
  },
  {
   "cell_type": "markdown",
   "metadata": {},
   "source": [
    "### Distribución de las transacciones fraudulentas por tipo"
   ]
  },
  {
   "cell_type": "code",
   "execution_count": 33,
   "metadata": {},
   "outputs": [
    {
     "data": {
      "text/plain": [
       "<AxesSubplot:xlabel='isFraud', ylabel='count'>"
      ]
     },
     "execution_count": 33,
     "metadata": {},
     "output_type": "execute_result"
    },
    {
     "data": {
      "image/png": "[encoded data removed]",
      "text/plain": [
       "<Figure size 432x288 with 1 Axes>"
      ]
     },
     "metadata": {
      "needs_background": "light"
     },
     "output_type": "display_data"
    }
   ],
   "source": [
    "sns.countplot(x='isFraud',data=fraud_dataset,hue='type')"
   ]
  },
  {
   "cell_type": "markdown",
   "metadata": {},
   "source": [
    "Las transacciones de tipo CASH_OUT y PAYMENT concentran la mayor cantidad de fraude."
   ]
  },
  {
   "cell_type": "markdown",
   "metadata": {},
   "source": [
    "### Preparación de datos"
   ]
  },
  {
   "cell_type": "markdown",
   "metadata": {},
   "source": [
    "Variables categóricas: type, nameOrig, nameDest, isFraud, isFlaggedFraud, \n",
    "Variables numéricas: amount, oldbalanceOrg, newbalanceOrig, oldbalanceDest, newbalanceDest, step"
   ]
  },
  {
   "cell_type": "code",
   "execution_count": 35,
   "metadata": {},
   "outputs": [
    {
     "data": {
      "text/html": [
       "<div>\n",
       "<style scoped>\n",
       "    .dataframe tbody tr th:only-of-type {\n",
       "        vertical-align: middle;\n",
       "    }\n",
       "\n",
       "    .dataframe tbody tr th {\n",
       "        vertical-align: top;\n",
       "    }\n",
       "\n",
       "    .dataframe thead th {\n",
       "        text-align: right;\n",
       "    }\n",
       "</style>\n",
       "<table border=\"1\" class=\"dataframe\">\n",
       "  <thead>\n",
       "    <tr style=\"text-align: right;\">\n",
       "      <th></th>\n",
       "      <th>step</th>\n",
       "      <th>type</th>\n",
       "      <th>amount</th>\n",
       "      <th>nameOrig</th>\n",
       "      <th>oldbalanceOrg</th>\n",
       "      <th>newbalanceOrig</th>\n",
       "      <th>nameDest</th>\n",
       "      <th>oldbalanceDest</th>\n",
       "      <th>newbalanceDest</th>\n",
       "      <th>isFraud</th>\n",
       "      <th>isFlaggedFraud</th>\n",
       "    </tr>\n",
       "  </thead>\n",
       "  <tbody>\n",
       "    <tr>\n",
       "      <th>0</th>\n",
       "      <td>1</td>\n",
       "      <td>PAYMENT</td>\n",
       "      <td>9839.64</td>\n",
       "      <td>C1231006815</td>\n",
       "      <td>170136.0</td>\n",
       "      <td>160296.36</td>\n",
       "      <td>M1979787155</td>\n",
       "      <td>0.0</td>\n",
       "      <td>0.0</td>\n",
       "      <td>0</td>\n",
       "      <td>0</td>\n",
       "    </tr>\n",
       "    <tr>\n",
       "      <th>1</th>\n",
       "      <td>1</td>\n",
       "      <td>PAYMENT</td>\n",
       "      <td>1864.28</td>\n",
       "      <td>C1666544295</td>\n",
       "      <td>21249.0</td>\n",
       "      <td>19384.72</td>\n",
       "      <td>M2044282225</td>\n",
       "      <td>0.0</td>\n",
       "      <td>0.0</td>\n",
       "      <td>0</td>\n",
       "      <td>0</td>\n",
       "    </tr>\n",
       "    <tr>\n",
       "      <th>2</th>\n",
       "      <td>1</td>\n",
       "      <td>TRANSFER</td>\n",
       "      <td>181.00</td>\n",
       "      <td>C1305486145</td>\n",
       "      <td>181.0</td>\n",
       "      <td>0.00</td>\n",
       "      <td>C553264065</td>\n",
       "      <td>0.0</td>\n",
       "      <td>0.0</td>\n",
       "      <td>1</td>\n",
       "      <td>0</td>\n",
       "    </tr>\n",
       "    <tr>\n",
       "      <th>3</th>\n",
       "      <td>1</td>\n",
       "      <td>CASH_OUT</td>\n",
       "      <td>181.00</td>\n",
       "      <td>C840083671</td>\n",
       "      <td>181.0</td>\n",
       "      <td>0.00</td>\n",
       "      <td>C38997010</td>\n",
       "      <td>21182.0</td>\n",
       "      <td>0.0</td>\n",
       "      <td>1</td>\n",
       "      <td>0</td>\n",
       "    </tr>\n",
       "    <tr>\n",
       "      <th>4</th>\n",
       "      <td>1</td>\n",
       "      <td>PAYMENT</td>\n",
       "      <td>11668.14</td>\n",
       "      <td>C2048537720</td>\n",
       "      <td>41554.0</td>\n",
       "      <td>29885.86</td>\n",
       "      <td>M1230701703</td>\n",
       "      <td>0.0</td>\n",
       "      <td>0.0</td>\n",
       "      <td>0</td>\n",
       "      <td>0</td>\n",
       "    </tr>\n",
       "  </tbody>\n",
       "</table>\n",
       "</div>"
      ],
      "text/plain": [
       "   step      type    amount     nameOrig  oldbalanceOrg  newbalanceOrig  \\\n",
       "0     1   PAYMENT   9839.64  C1231006815       170136.0       160296.36   \n",
       "1     1   PAYMENT   1864.28  C1666544295        21249.0        19384.72   \n",
       "2     1  TRANSFER    181.00  C1305486145          181.0            0.00   \n",
       "3     1  CASH_OUT    181.00   C840083671          181.0            0.00   \n",
       "4     1   PAYMENT  11668.14  C2048537720        41554.0        29885.86   \n",
       "\n",
       "      nameDest  oldbalanceDest  newbalanceDest  isFraud  isFlaggedFraud  \n",
       "0  M1979787155             0.0             0.0        0               0  \n",
       "1  M2044282225             0.0             0.0        0               0  \n",
       "2   C553264065             0.0             0.0        1               0  \n",
       "3    C38997010         21182.0             0.0        1               0  \n",
       "4  M1230701703             0.0             0.0        0               0  "
      ]
     },
     "execution_count": 35,
     "metadata": {},
     "output_type": "execute_result"
    }
   ],
   "source": [
    "fraud_dataset.head()"
   ]
  },
  {
   "cell_type": "code",
   "execution_count": 5,
   "metadata": {},
   "outputs": [],
   "source": [
    "type_new = pd.get_dummies(fraud_dataset['type'],drop_first=True)"
   ]
  },
  {
   "cell_type": "code",
   "execution_count": 6,
   "metadata": {},
   "outputs": [],
   "source": [
    "fraud_dataset = pd.concat([fraud_dataset,type_new],axis=1)"
   ]
  },
  {
   "cell_type": "code",
   "execution_count": 6,
   "metadata": {},
   "outputs": [
    {
     "data": {
      "text/html": [
       "<div>\n",
       "<style scoped>\n",
       "    .dataframe tbody tr th:only-of-type {\n",
       "        vertical-align: middle;\n",
       "    }\n",
       "\n",
       "    .dataframe tbody tr th {\n",
       "        vertical-align: top;\n",
       "    }\n",
       "\n",
       "    .dataframe thead th {\n",
       "        text-align: right;\n",
       "    }\n",
       "</style>\n",
       "<table border=\"1\" class=\"dataframe\">\n",
       "  <thead>\n",
       "    <tr style=\"text-align: right;\">\n",
       "      <th></th>\n",
       "      <th>step</th>\n",
       "      <th>type</th>\n",
       "      <th>amount</th>\n",
       "      <th>nameOrig</th>\n",
       "      <th>oldbalanceOrg</th>\n",
       "      <th>newbalanceOrig</th>\n",
       "      <th>nameDest</th>\n",
       "      <th>oldbalanceDest</th>\n",
       "      <th>newbalanceDest</th>\n",
       "      <th>isFraud</th>\n",
       "      <th>isFlaggedFraud</th>\n",
       "      <th>CASH_OUT</th>\n",
       "      <th>DEBIT</th>\n",
       "      <th>PAYMENT</th>\n",
       "      <th>TRANSFER</th>\n",
       "    </tr>\n",
       "  </thead>\n",
       "  <tbody>\n",
       "    <tr>\n",
       "      <th>0</th>\n",
       "      <td>1</td>\n",
       "      <td>PAYMENT</td>\n",
       "      <td>9839.64</td>\n",
       "      <td>C1231006815</td>\n",
       "      <td>170136.0</td>\n",
       "      <td>160296.36</td>\n",
       "      <td>M1979787155</td>\n",
       "      <td>0.0</td>\n",
       "      <td>0.0</td>\n",
       "      <td>0</td>\n",
       "      <td>0</td>\n",
       "      <td>0</td>\n",
       "      <td>0</td>\n",
       "      <td>1</td>\n",
       "      <td>0</td>\n",
       "    </tr>\n",
       "    <tr>\n",
       "      <th>1</th>\n",
       "      <td>1</td>\n",
       "      <td>PAYMENT</td>\n",
       "      <td>1864.28</td>\n",
       "      <td>C1666544295</td>\n",
       "      <td>21249.0</td>\n",
       "      <td>19384.72</td>\n",
       "      <td>M2044282225</td>\n",
       "      <td>0.0</td>\n",
       "      <td>0.0</td>\n",
       "      <td>0</td>\n",
       "      <td>0</td>\n",
       "      <td>0</td>\n",
       "      <td>0</td>\n",
       "      <td>1</td>\n",
       "      <td>0</td>\n",
       "    </tr>\n",
       "    <tr>\n",
       "      <th>2</th>\n",
       "      <td>1</td>\n",
       "      <td>TRANSFER</td>\n",
       "      <td>181.00</td>\n",
       "      <td>C1305486145</td>\n",
       "      <td>181.0</td>\n",
       "      <td>0.00</td>\n",
       "      <td>C553264065</td>\n",
       "      <td>0.0</td>\n",
       "      <td>0.0</td>\n",
       "      <td>1</td>\n",
       "      <td>0</td>\n",
       "      <td>0</td>\n",
       "      <td>0</td>\n",
       "      <td>0</td>\n",
       "      <td>1</td>\n",
       "    </tr>\n",
       "    <tr>\n",
       "      <th>3</th>\n",
       "      <td>1</td>\n",
       "      <td>CASH_OUT</td>\n",
       "      <td>181.00</td>\n",
       "      <td>C840083671</td>\n",
       "      <td>181.0</td>\n",
       "      <td>0.00</td>\n",
       "      <td>C38997010</td>\n",
       "      <td>21182.0</td>\n",
       "      <td>0.0</td>\n",
       "      <td>1</td>\n",
       "      <td>0</td>\n",
       "      <td>1</td>\n",
       "      <td>0</td>\n",
       "      <td>0</td>\n",
       "      <td>0</td>\n",
       "    </tr>\n",
       "    <tr>\n",
       "      <th>4</th>\n",
       "      <td>1</td>\n",
       "      <td>PAYMENT</td>\n",
       "      <td>11668.14</td>\n",
       "      <td>C2048537720</td>\n",
       "      <td>41554.0</td>\n",
       "      <td>29885.86</td>\n",
       "      <td>M1230701703</td>\n",
       "      <td>0.0</td>\n",
       "      <td>0.0</td>\n",
       "      <td>0</td>\n",
       "      <td>0</td>\n",
       "      <td>0</td>\n",
       "      <td>0</td>\n",
       "      <td>1</td>\n",
       "      <td>0</td>\n",
       "    </tr>\n",
       "  </tbody>\n",
       "</table>\n",
       "</div>"
      ],
      "text/plain": [
       "   step      type    amount     nameOrig  oldbalanceOrg  newbalanceOrig  \\\n",
       "0     1   PAYMENT   9839.64  C1231006815       170136.0       160296.36   \n",
       "1     1   PAYMENT   1864.28  C1666544295        21249.0        19384.72   \n",
       "2     1  TRANSFER    181.00  C1305486145          181.0            0.00   \n",
       "3     1  CASH_OUT    181.00   C840083671          181.0            0.00   \n",
       "4     1   PAYMENT  11668.14  C2048537720        41554.0        29885.86   \n",
       "\n",
       "      nameDest  oldbalanceDest  newbalanceDest  isFraud  isFlaggedFraud  \\\n",
       "0  M1979787155             0.0             0.0        0               0   \n",
       "1  M2044282225             0.0             0.0        0               0   \n",
       "2   C553264065             0.0             0.0        1               0   \n",
       "3    C38997010         21182.0             0.0        1               0   \n",
       "4  M1230701703             0.0             0.0        0               0   \n",
       "\n",
       "   CASH_OUT  DEBIT  PAYMENT  TRANSFER  \n",
       "0         0      0        1         0  \n",
       "1         0      0        1         0  \n",
       "2         0      0        0         1  \n",
       "3         1      0        0         0  \n",
       "4         0      0        1         0  "
      ]
     },
     "execution_count": 6,
     "metadata": {},
     "output_type": "execute_result"
    }
   ],
   "source": [
    "fraud_dataset.head()"
   ]
  },
  {
   "cell_type": "markdown",
   "metadata": {},
   "source": [
    "### Train baseline model"
   ]
  },
  {
   "cell_type": "code",
   "execution_count": 3,
   "metadata": {},
   "outputs": [],
   "source": [
    "from sklearn.model_selection import train_test_split\n",
    "from sklearn.linear_model import LogisticRegression"
   ]
  },
  {
   "cell_type": "code",
   "execution_count": 7,
   "metadata": {},
   "outputs": [],
   "source": [
    "X = fraud_dataset[['step','CASH_OUT','DEBIT','TRANSFER', 'PAYMENT','amount', 'oldbalanceOrg','newbalanceOrig','oldbalanceDest','newbalanceDest']]\n",
    "y= fraud_dataset['isFraud']"
   ]
  },
  {
   "cell_type": "code",
   "execution_count": 8,
   "metadata": {},
   "outputs": [],
   "source": [
    "X_train, X_test, y_train, y_test = train_test_split(X,y, test_size=0.3, random_state=42)"
   ]
  },
  {
   "cell_type": "code",
   "execution_count": 10,
   "metadata": {},
   "outputs": [
    {
     "data": {
      "text/plain": [
       "LogisticRegression()"
      ]
     },
     "execution_count": 10,
     "metadata": {},
     "output_type": "execute_result"
    }
   ],
   "source": [
    "#Train Logistic Regression baseline model\n",
    "lr = LogisticRegression()\n",
    "lr.fit(X_train, y_train)"
   ]
  },
  {
   "cell_type": "code",
   "execution_count": 28,
   "metadata": {},
   "outputs": [],
   "source": [
    "lr_preds = lr.predict(X_test)\n",
    "y_proba = lr.predict_proba(X_test)"
   ]
  },
  {
   "cell_type": "code",
   "execution_count": 29,
   "metadata": {},
   "outputs": [
    {
     "name": "stdout",
     "output_type": "stream",
     "text": [
      "Area bajo la curva ROC (test): 0.885\n",
      "Area bajo la curva ROC (train): 0.8874\n",
      "Area bajo la curva Precision-Recall: 0.4112\n",
      "              precision    recall  f1-score   support\n",
      "\n",
      "           0       1.00      1.00      1.00   1906351\n",
      "           1       0.37      0.43      0.40      2435\n",
      "\n",
      "    accuracy                           1.00   1908786\n",
      "   macro avg       0.68      0.72      0.70   1908786\n",
      "weighted avg       1.00      1.00      1.00   1908786\n",
      "\n"
     ]
    }
   ],
   "source": [
    "print('Area bajo la curva ROC (test):',np.round(roc_auc_score(y_test,y_proba[:,1]),4))\n",
    "print('Area bajo la curva ROC (train):',np.round(roc_auc_score(y_train,lr.predict_proba(X_train)[:,1]),4))\n",
    "precision, recall,threshold=precision_recall_curve(y_test,y_proba[:,1]);\n",
    "print('Area bajo la curva Precision-Recall:',np.round(auc(recall,precision),4))\n",
    "print(classification_report(y_test, lr_preds))"
   ]
  },
  {
   "cell_type": "code",
   "execution_count": 18,
   "metadata": {},
   "outputs": [
    {
     "data": {
      "text/plain": [
       "0    1906351\n",
       "1       2435\n",
       "Name: isFraud, dtype: int64"
      ]
     },
     "execution_count": 18,
     "metadata": {},
     "output_type": "execute_result"
    }
   ],
   "source": [
    "y_test.value_counts()"
   ]
  },
  {
   "cell_type": "markdown",
   "metadata": {},
   "source": [
    "El dataset está visiblemente desbalanceado. Hay únicamente 2435 casos de fraude en el test set. \n",
    "El modelo baseline arroja una precisión de 0.37 y un recall de 0.43, esto es hay una tasa bastante alta de falsos positivos y de falsos negativos. \n",
    "Es importante para este problema que el recall sea alto aun si esto implica sacrificar precisión. Es preferible cometer errores de tipo I, tener falsos positivos, casos erróneamente etiquetados como fraude, que cometer errores de tipo II, esto es, dejar pasar casos que son fraude.\n",
    "\n",
    "En el siguiente paso vamos a trabajar con balanceo del dataset"
   ]
  },
  {
   "cell_type": "markdown",
   "metadata": {},
   "source": [
    "### Balancear el dataset\n",
    "\n",
    "1) probar distintas técnicas como oversampling, undersampling y Logistic regression con optimización.\n",
    "2) mover el threshold (default = 0.5)"
   ]
  },
  {
   "cell_type": "code",
   "execution_count": 20,
   "metadata": {},
   "outputs": [
    {
     "name": "stdout",
     "output_type": "stream",
     "text": [
      "Entrenamiento: (4453834, 10)\n",
      "Testeo: (1908786, 10)\n",
      "\n",
      "Clases train:\n",
      "0    4448056\n",
      "1       5778\n",
      "Name: isFraud, dtype: int64\n",
      "\n",
      "Clases test:\n",
      "0    1906351\n",
      "1       2435\n",
      "Name: isFraud, dtype: int64\n"
     ]
    }
   ],
   "source": [
    "print('Entrenamiento:',X_train.shape)\n",
    "print('Testeo:',X_test.shape)\n",
    "print('\\nClases train:')\n",
    "print(y_train.value_counts())\n",
    "print('\\nClases test:')\n",
    "print(y_test.value_counts())"
   ]
  },
  {
   "cell_type": "markdown",
   "metadata": {},
   "source": [
    "#### 1. Logistic regression CV: con optimización LBGFS y 10 folds"
   ]
  },
  {
   "cell_type": "code",
   "execution_count": 21,
   "metadata": {},
   "outputs": [],
   "source": [
    "from sklearn.linear_model import LogisticRegressionCV"
   ]
  },
  {
   "cell_type": "code",
   "execution_count": 30,
   "metadata": {},
   "outputs": [
    {
     "name": "stderr",
     "output_type": "stream",
     "text": [
      "/Users/mtaglio/anaconda3/lib/python3.9/site-packages/sklearn/linear_model/_logistic.py:763: ConvergenceWarning: lbfgs failed to converge (status=1):\n",
      "STOP: TOTAL NO. of ITERATIONS REACHED LIMIT.\n",
      "\n",
      "Increase the number of iterations (max_iter) or scale the data as shown in:\n",
      "    https://scikit-learn.org/stable/modules/preprocessing.html\n",
      "Please also refer to the documentation for alternative solver options:\n",
      "    https://scikit-learn.org/stable/modules/linear_model.html#logistic-regression\n",
      "  n_iter_i = _check_optimize_result(\n"
     ]
    },
    {
     "data": {
      "text/plain": [
       "LogisticRegressionCV(cv=10, scoring='f1')"
      ]
     },
     "execution_count": 30,
     "metadata": {},
     "output_type": "execute_result"
    }
   ],
   "source": [
    "lr_cv = LogisticRegressionCV(scoring='f1', cv=10)\n",
    "lr_cv.fit(X_train, y_train)"
   ]
  },
  {
   "cell_type": "code",
   "execution_count": 32,
   "metadata": {},
   "outputs": [],
   "source": [
    "y_pred = lr_cv.predict(X_test)\n",
    "y_proba = lr_cv.predict_proba(X_test)"
   ]
  },
  {
   "cell_type": "code",
   "execution_count": 33,
   "metadata": {},
   "outputs": [
    {
     "name": "stdout",
     "output_type": "stream",
     "text": [
      "              precision    recall  f1-score   support\n",
      "\n",
      "           0       1.00      1.00      1.00   1906351\n",
      "           1       0.39      0.43      0.41      2435\n",
      "\n",
      "    accuracy                           1.00   1908786\n",
      "   macro avg       0.69      0.72      0.70   1908786\n",
      "weighted avg       1.00      1.00      1.00   1908786\n",
      "\n",
      "Area bajo la curva ROC (test): 0.885\n",
      "Area bajo la curva ROC (train): 0.8873\n",
      "Area bajo la curva Precision-Recall: 0.4117\n"
     ]
    }
   ],
   "source": [
    "print(classification_report(y_test, y_pred))\n",
    "print('Area bajo la curva ROC (test):',np.round(roc_auc_score(y_test,y_proba[:,1]),4))\n",
    "print('Area bajo la curva ROC (train):',np.round(roc_auc_score(y_train,lr_cv.predict_proba(X_train)[:,1]),4))\n",
    "precision, recall,threshold=precision_recall_curve(y_test,y_proba[:,1]);\n",
    "print('Area bajo la curva Precision-Recall:',np.round(auc(recall,precision),4))"
   ]
  },
  {
   "cell_type": "markdown",
   "metadata": {},
   "source": [
    "#### 2. Undersampling"
   ]
  },
  {
   "cell_type": "code",
   "execution_count": 10,
   "metadata": {},
   "outputs": [],
   "source": [
    "from imblearn.under_sampling import RandomUnderSampler"
   ]
  },
  {
   "cell_type": "code",
   "execution_count": 11,
   "metadata": {},
   "outputs": [
    {
     "name": "stdout",
     "output_type": "stream",
     "text": [
      "training set con undersampling\n",
      "0    5778\n",
      "1    5778\n",
      "Name: isFraud, dtype: int64\n",
      "\n",
      "Test set\n",
      "0    1906351\n",
      "1       2435\n",
      "Name: isFraud, dtype: int64\n"
     ]
    }
   ],
   "source": [
    "#selecciono número de muestras igual al de la clase minoritaria\n",
    "undersampler = RandomUnderSampler(sampling_strategy = \"majority\")\n",
    "X_train_us, y_train_us = undersampler.fit_resample(X_train, y_train)\n",
    "\n",
    "print(\"training set con undersampling\")\n",
    "print(y_train_us.value_counts())\n",
    "print()\n",
    "print(\"Test set\")\n",
    "print(y_test.value_counts())"
   ]
  },
  {
   "cell_type": "code",
   "execution_count": 43,
   "metadata": {},
   "outputs": [
    {
     "data": {
      "text/plain": [
       "LogisticRegression()"
      ]
     },
     "execution_count": 43,
     "metadata": {},
     "output_type": "execute_result"
    }
   ],
   "source": [
    "lr_us = LogisticRegression()\n",
    "lr_us.fit(X_train_us, y_train_us)"
   ]
  },
  {
   "cell_type": "code",
   "execution_count": 44,
   "metadata": {},
   "outputs": [],
   "source": [
    "y_pred = lr_us.predict(X_test)\n",
    "y_proba = lr_us.predict_proba(X_test)"
   ]
  },
  {
   "cell_type": "code",
   "execution_count": 25,
   "metadata": {},
   "outputs": [
    {
     "name": "stdout",
     "output_type": "stream",
     "text": [
      "              precision    recall  f1-score   support\n",
      "\n",
      "           0       1.00      1.00      1.00   1906351\n",
      "           1       0.71      0.69      0.70      2435\n",
      "\n",
      "    accuracy                           1.00   1908786\n",
      "   macro avg       0.86      0.84      0.85   1908786\n",
      "weighted avg       1.00      1.00      1.00   1908786\n",
      "\n",
      "Area bajo la curva ROC (test): 0.9473\n",
      "Area bajo la curva ROC (train): 0.9495\n",
      "Area bajo la curva Precision-Recall: 0.6257\n"
     ]
    },
    {
     "ename": "NameError",
     "evalue": "name 'lr_us' is not defined",
     "output_type": "error",
     "traceback": [
      "\u001b[0;31m---------------------------------------------------------------------------\u001b[0m",
      "\u001b[0;31mNameError\u001b[0m                                 Traceback (most recent call last)",
      "\u001b[0;32m/var/folders/5q/7y6tgwlj5_v9xg1_k8l74fchpwzrv9/T/ipykernel_9868/2686218625.py\u001b[0m in \u001b[0;36m<module>\u001b[0;34m\u001b[0m\n\u001b[1;32m      5\u001b[0m \u001b[0mprecision\u001b[0m\u001b[0;34m,\u001b[0m \u001b[0mrecall\u001b[0m\u001b[0;34m,\u001b[0m\u001b[0mthreshold\u001b[0m\u001b[0;34m=\u001b[0m\u001b[0mprecision_recall_curve\u001b[0m\u001b[0;34m(\u001b[0m\u001b[0my_test\u001b[0m\u001b[0;34m,\u001b[0m\u001b[0my_proba\u001b[0m\u001b[0;34m[\u001b[0m\u001b[0;34m:\u001b[0m\u001b[0;34m,\u001b[0m\u001b[0;36m1\u001b[0m\u001b[0;34m]\u001b[0m\u001b[0;34m)\u001b[0m\u001b[0;34m;\u001b[0m\u001b[0;34m\u001b[0m\u001b[0;34m\u001b[0m\u001b[0m\n\u001b[1;32m      6\u001b[0m \u001b[0mprint\u001b[0m\u001b[0;34m(\u001b[0m\u001b[0;34m'Area bajo la curva Precision-Recall:'\u001b[0m\u001b[0;34m,\u001b[0m\u001b[0mnp\u001b[0m\u001b[0;34m.\u001b[0m\u001b[0mround\u001b[0m\u001b[0;34m(\u001b[0m\u001b[0mauc\u001b[0m\u001b[0;34m(\u001b[0m\u001b[0mrecall\u001b[0m\u001b[0;34m,\u001b[0m\u001b[0mprecision\u001b[0m\u001b[0;34m)\u001b[0m\u001b[0;34m,\u001b[0m\u001b[0;36m4\u001b[0m\u001b[0;34m)\u001b[0m\u001b[0;34m)\u001b[0m\u001b[0;34m\u001b[0m\u001b[0;34m\u001b[0m\u001b[0m\n\u001b[0;32m----> 7\u001b[0;31m \u001b[0mplot_confusion_matrix\u001b[0m\u001b[0;34m(\u001b[0m\u001b[0mlr_us\u001b[0m\u001b[0;34m,\u001b[0m\u001b[0mX_test\u001b[0m\u001b[0;34m,\u001b[0m\u001b[0my_test\u001b[0m\u001b[0;34m,\u001b[0m\u001b[0mcmap\u001b[0m\u001b[0;34m=\u001b[0m\u001b[0;34m'Blues'\u001b[0m\u001b[0;34m)\u001b[0m\u001b[0;34m;\u001b[0m\u001b[0;34m\u001b[0m\u001b[0;34m\u001b[0m\u001b[0m\n\u001b[0m",
      "\u001b[0;31mNameError\u001b[0m: name 'lr_us' is not defined"
     ]
    }
   ],
   "source": [
    "print(classification_report(y_test, y_pred))\n",
    "print('Area bajo la curva ROC (test):',np.round(roc_auc_score(y_test,y_proba[:,1]),4))\n",
    "print('Area bajo la curva ROC (train):',np.round(roc_auc_score(y_train,lr_us.predict_proba(X_train)[:,1]),4))\n",
    "precision, recall,threshold=precision_recall_curve(y_test,y_proba[:,1]);\n",
    "print('Area bajo la curva Precision-Recall:',np.round(auc(recall,precision),4))\n",
    "plot_confusion_matrix(lr_us,X_test,y_test,cmap='Blues');\n"
   ]
  },
  {
   "cell_type": "markdown",
   "metadata": {},
   "source": [
    "Resultados con undersampling: \n",
    "* alta cobertura o recall, o sea mayor porcentaje de casos que cubrimos con nuestra clasificación de la transacción como fraude.\n",
    "* baja precisión: el porcentaje del total de casos que acertamos cuando decimos que una transacción es fraude.\n",
    "El modelo es muy preciso para clasificar casos que no son fraude. Pero hay una gran cantidad de falsos positivos, el modelo clasifica como fraude casos que no lo son. En contraparte, hay una baja cantidad de falsos negativos, casos que son efectivamente fraude pero que el modelo no los clasifica como tal. \n"
   ]
  },
  {
   "cell_type": "markdown",
   "metadata": {},
   "source": [
    "#### 3. Oversampling\n",
    "Samplear observaciones de la clase minoritaria con reposición"
   ]
  },
  {
   "cell_type": "code",
   "execution_count": 16,
   "metadata": {},
   "outputs": [
    {
     "name": "stdout",
     "output_type": "stream",
     "text": [
      "Composición del training set:\n",
      "0    4448056\n",
      "1    4448056\n",
      "Name: isFraud, dtype: int64\n",
      "\n",
      "Composición del test set:\n",
      "0    1906351\n",
      "1       2435\n",
      "Name: isFraud, dtype: int64\n"
     ]
    }
   ],
   "source": [
    "from imblearn.over_sampling import RandomOverSampler\n",
    "\n",
    "oversampler=RandomOverSampler(sampling_strategy='minority');\n",
    "\n",
    "X_train_os,y_train_os=oversampler.fit_resample(X_train,y_train);\n",
    "\n",
    "print('Composición del training set:')\n",
    "print(y_train_os.value_counts())\n",
    "\n",
    "print('\\nComposición del test set:')\n",
    "print(y_test.value_counts())"
   ]
  },
  {
   "cell_type": "code",
   "execution_count": 49,
   "metadata": {},
   "outputs": [
    {
     "data": {
      "text/plain": [
       "LogisticRegression()"
      ]
     },
     "execution_count": 49,
     "metadata": {},
     "output_type": "execute_result"
    }
   ],
   "source": [
    "lr_os = LogisticRegression()\n",
    "lr_os.fit(X_train_os, y_train_os)"
   ]
  },
  {
   "cell_type": "code",
   "execution_count": 50,
   "metadata": {},
   "outputs": [],
   "source": [
    "y_pred = lr_os.predict(X_test)\n",
    "y_proba = lr_os.predict_proba(X_test)"
   ]
  },
  {
   "cell_type": "code",
   "execution_count": 51,
   "metadata": {},
   "outputs": [
    {
     "name": "stdout",
     "output_type": "stream",
     "text": [
      "              precision    recall  f1-score   support\n",
      "\n",
      "           0       1.00      0.91      0.95   1906351\n",
      "           1       0.01      0.88      0.02      2435\n",
      "\n",
      "    accuracy                           0.91   1908786\n",
      "   macro avg       0.51      0.90      0.49   1908786\n",
      "weighted avg       1.00      0.91      0.95   1908786\n",
      "\n",
      "Area bajo la curva ROC (test): 0.9571\n",
      "Area bajo la curva Precision-Recall: 0.5269\n"
     ]
    },
    {
     "data": {
      "image/png": "[encoded data removed]",
      "text/plain": [
       "<Figure size 432x288 with 2 Axes>"
      ]
     },
     "metadata": {
      "needs_background": "light"
     },
     "output_type": "display_data"
    }
   ],
   "source": [
    "print(classification_report(y_test, y_pred))\n",
    "print('Area bajo la curva ROC (test):',np.round(roc_auc_score(y_test,y_proba[:,1]),4))\n",
    "precision, recall,threshold=precision_recall_curve(y_test,y_proba[:,1]);\n",
    "print('Area bajo la curva Precision-Recall:',np.round(auc(recall,precision),4))\n",
    "plot_confusion_matrix(lr_os,X_test,y_test,cmap='Blues');"
   ]
  },
  {
   "cell_type": "markdown",
   "metadata": {},
   "source": [
    "Resultados con oversampling:\n",
    "\n",
    "Los resultados son muy similares a los obtenidos con undersampling. "
   ]
  },
  {
   "cell_type": "markdown",
   "metadata": {},
   "source": [
    "#### Entrenamiento con árboles de decisión y ensambles"
   ]
  },
  {
   "cell_type": "code",
   "execution_count": 20,
   "metadata": {},
   "outputs": [
    {
     "data": {
      "text/plain": [
       "DecisionTreeClassifier(criterion='entropy', max_depth=3)"
      ]
     },
     "execution_count": 20,
     "metadata": {},
     "output_type": "execute_result"
    }
   ],
   "source": [
    "#Decision tree classifier\n",
    "from sklearn.tree import DecisionTreeClassifier, plot_tree\n",
    "dt = DecisionTreeClassifier(max_depth=3, criterion='gini')\n",
    "dt.fit(X_train, y_train)\n"
   ]
  },
  {
   "cell_type": "code",
   "execution_count": 21,
   "metadata": {},
   "outputs": [],
   "source": [
    "#plt.figure(figsize=(15,8))\n",
    "#plot_tree(dt, feature_names=X_train.columns)"
   ]
  },
  {
   "cell_type": "code",
   "execution_count": 22,
   "metadata": {},
   "outputs": [],
   "source": [
    "y_pred = dt.predict(X_test)\n",
    "y_proba = dt.predict_proba(X_test)"
   ]
  },
  {
   "cell_type": "code",
   "execution_count": 26,
   "metadata": {},
   "outputs": [
    {
     "name": "stdout",
     "output_type": "stream",
     "text": [
      "              precision    recall  f1-score   support\n",
      "\n",
      "           0       1.00      1.00      1.00   1906351\n",
      "           1       0.71      0.69      0.70      2435\n",
      "\n",
      "    accuracy                           1.00   1908786\n",
      "   macro avg       0.86      0.84      0.85   1908786\n",
      "weighted avg       1.00      1.00      1.00   1908786\n",
      "\n",
      "Area bajo la curva ROC (test): 0.9473\n",
      "Area bajo la curva ROC (train): 0.9495\n",
      "Area bajo la curva Precision-Recall: 0.6257\n"
     ]
    },
    {
     "data": {
      "image/png": "[encoded data removed]",
      "text/plain": [
       "<Figure size 432x288 with 2 Axes>"
      ]
     },
     "metadata": {
      "needs_background": "light"
     },
     "output_type": "display_data"
    }
   ],
   "source": [
    "print(classification_report(y_test, y_pred))\n",
    "print('Area bajo la curva ROC (test):',np.round(roc_auc_score(y_test,y_proba[:,1]),4))\n",
    "print('Area bajo la curva ROC (train):',np.round(roc_auc_score(y_train,dt.predict_proba(X_train)[:,1]),4))\n",
    "\n",
    "precision, recall,threshold=precision_recall_curve(y_test,y_proba[:,1]);\n",
    "print('Area bajo la curva Precision-Recall:',np.round(auc(recall,precision),4))\n",
    "plot_confusion_matrix(dt,X_test,y_test,cmap='Blues');"
   ]
  },
  {
   "cell_type": "markdown",
   "metadata": {},
   "source": [
    "Sube precision y recall: \n",
    "El modelo predice perfectamente cuando los casos no son fraude. \n",
    "Predice con mejor precisión los casos que sí son fraude. Menos tasa de falsos positivos,  o sea casos que son etiquetados incorrectamente como fraude. \n",
    "Se duplican los falsos negativos, en comparación con los modelos de logistic regression.\n"
   ]
  },
  {
   "cell_type": "markdown",
   "metadata": {},
   "source": [
    "Random forest"
   ]
  },
  {
   "cell_type": "code",
   "execution_count": 31,
   "metadata": {},
   "outputs": [
    {
     "data": {
      "text/plain": [
       "RandomForestClassifier(n_estimators=10, random_state=0)"
      ]
     },
     "execution_count": 31,
     "metadata": {},
     "output_type": "execute_result"
    }
   ],
   "source": [
    "from sklearn.ensemble import RandomForestClassifier\n",
    "rf = RandomForestClassifier(n_estimators=10, random_state=0)\n",
    "rf.fit(X_train, y_train)\n"
   ]
  },
  {
   "cell_type": "code",
   "execution_count": 32,
   "metadata": {},
   "outputs": [],
   "source": [
    "y_pred = rf.predict(X_test)\n",
    "y_proba = rf.predict_proba(X_test)"
   ]
  },
  {
   "cell_type": "code",
   "execution_count": 33,
   "metadata": {},
   "outputs": [
    {
     "name": "stdout",
     "output_type": "stream",
     "text": [
      "              precision    recall  f1-score   support\n",
      "\n",
      "           0       1.00      1.00      1.00   1906351\n",
      "           1       0.98      0.79      0.87      2435\n",
      "\n",
      "    accuracy                           1.00   1908786\n",
      "   macro avg       0.99      0.89      0.94   1908786\n",
      "weighted avg       1.00      1.00      1.00   1908786\n",
      "\n",
      "Area bajo la curva ROC (test): 0.973\n",
      "Area bajo la curva ROC (train): 1.0\n",
      "Area bajo la curva Precision-Recall: 0.9301\n"
     ]
    },
    {
     "data": {
      "image/png": "[encoded data removed]",
      "text/plain": [
       "<Figure size 432x288 with 2 Axes>"
      ]
     },
     "metadata": {
      "needs_background": "light"
     },
     "output_type": "display_data"
    }
   ],
   "source": [
    "print(classification_report(y_test, y_pred))\n",
    "print('Area bajo la curva ROC (test):',np.round(roc_auc_score(y_test,y_proba[:,1]),4))\n",
    "print('Area bajo la curva ROC (train):',np.round(roc_auc_score(y_train,rf.predict_proba(X_train)[:,1]),4))\n",
    "\n",
    "precision, recall,threshold=precision_recall_curve(y_test,y_proba[:,1]);\n",
    "print('Area bajo la curva Precision-Recall:',np.round(auc(recall,precision),4))\n",
    "plot_confusion_matrix(rf,X_test,y_test,cmap='Blues');"
   ]
  },
  {
   "cell_type": "markdown",
   "metadata": {},
   "source": [
    "#### Test manual"
   ]
  },
  {
   "cell_type": "code",
   "execution_count": 150,
   "metadata": {},
   "outputs": [
    {
     "data": {
      "text/plain": [
       "(array([    420,     548,     952, ..., 1905441, 1907413, 1908622]),)"
      ]
     },
     "execution_count": 150,
     "metadata": {},
     "output_type": "execute_result"
    }
   ],
   "source": [
    "y_hat = np.where(y_pred == 1)\n",
    "y_hat_array = np.array(y_hat)\n",
    "y_hat_list = y_hat_array.tolist()"
   ]
  },
  {
   "cell_type": "code",
   "execution_count": 158,
   "metadata": {},
   "outputs": [
    {
     "data": {
      "text/plain": [
       "[[420,\n",
       "  548,\n",
       "  952,\n",
       "  1816,\n",
       "  2086,\n",
       "  2591,\n",
       "  3762,\n",
       "  4030,\n",
       "  4560,\n",
       "  5063,\n",
       "  7526,\n",
       "  8723,\n",
       "  9119,\n",
       "  9391,\n",
       "  9930,\n",
       "  11655,\n",
       "  11690,\n",
       "  12526,\n",
       "  12574,\n",
       "  15956,\n",
       "  16506,\n",
       "  16771,\n",
       "  16809,\n",
       "  17934,\n",
       "  18101,\n",
       "  18257,\n",
       "  18353,\n",
       "  18655,\n",
       "  18932,\n",
       "  19736,\n",
       "  20296,\n",
       "  22280,\n",
       "  24802,\n",
       "  24964,\n",
       "  25643,\n",
       "  26440,\n",
       "  26608,\n",
       "  27182,\n",
       "  29589,\n",
       "  30630,\n",
       "  30781,\n",
       "  30827,\n",
       "  34675,\n",
       "  36168,\n",
       "  37564,\n",
       "  38543,\n",
       "  39905,\n",
       "  40054,\n",
       "  43761,\n",
       "  45039,\n",
       "  46331,\n",
       "  46745,\n",
       "  47115,\n",
       "  47307,\n",
       "  49259,\n",
       "  49903,\n",
       "  50119,\n",
       "  51838,\n",
       "  51848,\n",
       "  52765,\n",
       "  55441,\n",
       "  56135,\n",
       "  57350,\n",
       "  58919,\n",
       "  59907,\n",
       "  60259,\n",
       "  60481,\n",
       "  61611,\n",
       "  62778,\n",
       "  62839,\n",
       "  63243,\n",
       "  65702,\n",
       "  65733,\n",
       "  68903,\n",
       "  69702,\n",
       "  70135,\n",
       "  70516,\n",
       "  71200,\n",
       "  71726,\n",
       "  72076,\n",
       "  72093,\n",
       "  72756,\n",
       "  72797,\n",
       "  73473,\n",
       "  74355,\n",
       "  75487,\n",
       "  75854,\n",
       "  76821,\n",
       "  77829,\n",
       "  78734,\n",
       "  78960,\n",
       "  79326,\n",
       "  79921,\n",
       "  81273,\n",
       "  82009,\n",
       "  82637,\n",
       "  82817,\n",
       "  83962,\n",
       "  86321,\n",
       "  90516,\n",
       "  90548,\n",
       "  90916,\n",
       "  93198,\n",
       "  93705,\n",
       "  94123,\n",
       "  94370,\n",
       "  94935,\n",
       "  95277,\n",
       "  96436,\n",
       "  97087,\n",
       "  97454,\n",
       "  98238,\n",
       "  99204,\n",
       "  100047,\n",
       "  100317,\n",
       "  100465,\n",
       "  103530,\n",
       "  104632,\n",
       "  104850,\n",
       "  105595,\n",
       "  106120,\n",
       "  106474,\n",
       "  107089,\n",
       "  110032,\n",
       "  114748,\n",
       "  115485,\n",
       "  118093,\n",
       "  119814,\n",
       "  120154,\n",
       "  120804,\n",
       "  121443,\n",
       "  121867,\n",
       "  122271,\n",
       "  122990,\n",
       "  125192,\n",
       "  125657,\n",
       "  126889,\n",
       "  127116,\n",
       "  127480,\n",
       "  131149,\n",
       "  132093,\n",
       "  133003,\n",
       "  133554,\n",
       "  134913,\n",
       "  135836,\n",
       "  139068,\n",
       "  139323,\n",
       "  140722,\n",
       "  143719,\n",
       "  144598,\n",
       "  144889,\n",
       "  145948,\n",
       "  149538,\n",
       "  150294,\n",
       "  151428,\n",
       "  151642,\n",
       "  151919,\n",
       "  152327,\n",
       "  152554,\n",
       "  155639,\n",
       "  157774,\n",
       "  158266,\n",
       "  158309,\n",
       "  158910,\n",
       "  160493,\n",
       "  161257,\n",
       "  162328,\n",
       "  162627,\n",
       "  164451,\n",
       "  164787,\n",
       "  164897,\n",
       "  164965,\n",
       "  165833,\n",
       "  166776,\n",
       "  167524,\n",
       "  167726,\n",
       "  168971,\n",
       "  169385,\n",
       "  171356,\n",
       "  171465,\n",
       "  171905,\n",
       "  173930,\n",
       "  174242,\n",
       "  174359,\n",
       "  177417,\n",
       "  177426,\n",
       "  177448,\n",
       "  177876,\n",
       "  179392,\n",
       "  181910,\n",
       "  182220,\n",
       "  183229,\n",
       "  183359,\n",
       "  183671,\n",
       "  184133,\n",
       "  184546,\n",
       "  184764,\n",
       "  185181,\n",
       "  185214,\n",
       "  185804,\n",
       "  187343,\n",
       "  187804,\n",
       "  188275,\n",
       "  188394,\n",
       "  188438,\n",
       "  189484,\n",
       "  190949,\n",
       "  193151,\n",
       "  194994,\n",
       "  195428,\n",
       "  195792,\n",
       "  197500,\n",
       "  198644,\n",
       "  198842,\n",
       "  199233,\n",
       "  200349,\n",
       "  200446,\n",
       "  202457,\n",
       "  203659,\n",
       "  204735,\n",
       "  207195,\n",
       "  207370,\n",
       "  210376,\n",
       "  210395,\n",
       "  210557,\n",
       "  211245,\n",
       "  211289,\n",
       "  215295,\n",
       "  219455,\n",
       "  219505,\n",
       "  220635,\n",
       "  221730,\n",
       "  222488,\n",
       "  222807,\n",
       "  224652,\n",
       "  225670,\n",
       "  226453,\n",
       "  227242,\n",
       "  228367,\n",
       "  230149,\n",
       "  234234,\n",
       "  235261,\n",
       "  235722,\n",
       "  235757,\n",
       "  237524,\n",
       "  237602,\n",
       "  239570,\n",
       "  240536,\n",
       "  240731,\n",
       "  243720,\n",
       "  244509,\n",
       "  244548,\n",
       "  245044,\n",
       "  245677,\n",
       "  246281,\n",
       "  246557,\n",
       "  247050,\n",
       "  248760,\n",
       "  249917,\n",
       "  249927,\n",
       "  250087,\n",
       "  250157,\n",
       "  250668,\n",
       "  252397,\n",
       "  255086,\n",
       "  257192,\n",
       "  257303,\n",
       "  260334,\n",
       "  261010,\n",
       "  261206,\n",
       "  261630,\n",
       "  261754,\n",
       "  265679,\n",
       "  265740,\n",
       "  266994,\n",
       "  268449,\n",
       "  269614,\n",
       "  270187,\n",
       "  271213,\n",
       "  271880,\n",
       "  276210,\n",
       "  277791,\n",
       "  278247,\n",
       "  279867,\n",
       "  279937,\n",
       "  280162,\n",
       "  280977,\n",
       "  281023,\n",
       "  282642,\n",
       "  282929,\n",
       "  283339,\n",
       "  283536,\n",
       "  284013,\n",
       "  285823,\n",
       "  287224,\n",
       "  287819,\n",
       "  289707,\n",
       "  289798,\n",
       "  290570,\n",
       "  290595,\n",
       "  291254,\n",
       "  291699,\n",
       "  291837,\n",
       "  292736,\n",
       "  292848,\n",
       "  292989,\n",
       "  293278,\n",
       "  296078,\n",
       "  297880,\n",
       "  298599,\n",
       "  300641,\n",
       "  300785,\n",
       "  301164,\n",
       "  301358,\n",
       "  302899,\n",
       "  304827,\n",
       "  307402,\n",
       "  307893,\n",
       "  308205,\n",
       "  308929,\n",
       "  309548,\n",
       "  310772,\n",
       "  310836,\n",
       "  311866,\n",
       "  311956,\n",
       "  312513,\n",
       "  312527,\n",
       "  312793,\n",
       "  312905,\n",
       "  313008,\n",
       "  316652,\n",
       "  316895,\n",
       "  318621,\n",
       "  318742,\n",
       "  318859,\n",
       "  319916,\n",
       "  320802,\n",
       "  321120,\n",
       "  322329,\n",
       "  322397,\n",
       "  323261,\n",
       "  325033,\n",
       "  326215,\n",
       "  326335,\n",
       "  326619,\n",
       "  327270,\n",
       "  327370,\n",
       "  328155,\n",
       "  328279,\n",
       "  328859,\n",
       "  329077,\n",
       "  331452,\n",
       "  332483,\n",
       "  333969,\n",
       "  335916,\n",
       "  336241,\n",
       "  336940,\n",
       "  337882,\n",
       "  338815,\n",
       "  340952,\n",
       "  341221,\n",
       "  343604,\n",
       "  343745,\n",
       "  343779,\n",
       "  343806,\n",
       "  344181,\n",
       "  346526,\n",
       "  348122,\n",
       "  348558,\n",
       "  348581,\n",
       "  348627,\n",
       "  351618,\n",
       "  353573,\n",
       "  356159,\n",
       "  356163,\n",
       "  359159,\n",
       "  360647,\n",
       "  360856,\n",
       "  361237,\n",
       "  361952,\n",
       "  362331,\n",
       "  362566,\n",
       "  362657,\n",
       "  367421,\n",
       "  367881,\n",
       "  368795,\n",
       "  369387,\n",
       "  369507,\n",
       "  369661,\n",
       "  370238,\n",
       "  370313,\n",
       "  370873,\n",
       "  371714,\n",
       "  372424,\n",
       "  372439,\n",
       "  372805,\n",
       "  372828,\n",
       "  372958,\n",
       "  373103,\n",
       "  373140,\n",
       "  374816,\n",
       "  377147,\n",
       "  377358,\n",
       "  380190,\n",
       "  380505,\n",
       "  380770,\n",
       "  381473,\n",
       "  383165,\n",
       "  383683,\n",
       "  383876,\n",
       "  385133,\n",
       "  385993,\n",
       "  386045,\n",
       "  386892,\n",
       "  388889,\n",
       "  389259,\n",
       "  391010,\n",
       "  391271,\n",
       "  393919,\n",
       "  395296,\n",
       "  395323,\n",
       "  395991,\n",
       "  396068,\n",
       "  396374,\n",
       "  396382,\n",
       "  398596,\n",
       "  399251,\n",
       "  399425,\n",
       "  402304,\n",
       "  402400,\n",
       "  406131,\n",
       "  406907,\n",
       "  407453,\n",
       "  408690,\n",
       "  410123,\n",
       "  410974,\n",
       "  411660,\n",
       "  411945,\n",
       "  412328,\n",
       "  413551,\n",
       "  414215,\n",
       "  416372,\n",
       "  416838,\n",
       "  417524,\n",
       "  419248,\n",
       "  420651,\n",
       "  420880,\n",
       "  421024,\n",
       "  421651,\n",
       "  422148,\n",
       "  422667,\n",
       "  423676,\n",
       "  426540,\n",
       "  427748,\n",
       "  427988,\n",
       "  428741,\n",
       "  429680,\n",
       "  429721,\n",
       "  430381,\n",
       "  431580,\n",
       "  431875,\n",
       "  432478,\n",
       "  432903,\n",
       "  432985,\n",
       "  433067,\n",
       "  433720,\n",
       "  434164,\n",
       "  435793,\n",
       "  437198,\n",
       "  437247,\n",
       "  437901,\n",
       "  438924,\n",
       "  439086,\n",
       "  440166,\n",
       "  441083,\n",
       "  443209,\n",
       "  443944,\n",
       "  444955,\n",
       "  445795,\n",
       "  447646,\n",
       "  449612,\n",
       "  449857,\n",
       "  449936,\n",
       "  450084,\n",
       "  451538,\n",
       "  452109,\n",
       "  453840,\n",
       "  453934,\n",
       "  454096,\n",
       "  457734,\n",
       "  458595,\n",
       "  458703,\n",
       "  460647,\n",
       "  460721,\n",
       "  465473,\n",
       "  465558,\n",
       "  465840,\n",
       "  465895,\n",
       "  466771,\n",
       "  468071,\n",
       "  469262,\n",
       "  471067,\n",
       "  473944,\n",
       "  475442,\n",
       "  476353,\n",
       "  480042,\n",
       "  483922,\n",
       "  484506,\n",
       "  485286,\n",
       "  486277,\n",
       "  486355,\n",
       "  486719,\n",
       "  487449,\n",
       "  487771,\n",
       "  487864,\n",
       "  488166,\n",
       "  490414,\n",
       "  491049,\n",
       "  491223,\n",
       "  492271,\n",
       "  493233,\n",
       "  496568,\n",
       "  499365,\n",
       "  500977,\n",
       "  501229,\n",
       "  501542,\n",
       "  505232,\n",
       "  505608,\n",
       "  507350,\n",
       "  509594,\n",
       "  509856,\n",
       "  510397,\n",
       "  512215,\n",
       "  512270,\n",
       "  512954,\n",
       "  513831,\n",
       "  515758,\n",
       "  519483,\n",
       "  521780,\n",
       "  522640,\n",
       "  523272,\n",
       "  523818,\n",
       "  525540,\n",
       "  525752,\n",
       "  525784,\n",
       "  526925,\n",
       "  528260,\n",
       "  530458,\n",
       "  531514,\n",
       "  532052,\n",
       "  532198,\n",
       "  533421,\n",
       "  534072,\n",
       "  534588,\n",
       "  534663,\n",
       "  537027,\n",
       "  538499,\n",
       "  538702,\n",
       "  539221,\n",
       "  539256,\n",
       "  541258,\n",
       "  541509,\n",
       "  542858,\n",
       "  543734,\n",
       "  546511,\n",
       "  552218,\n",
       "  552442,\n",
       "  552501,\n",
       "  552547,\n",
       "  552620,\n",
       "  554137,\n",
       "  554335,\n",
       "  556524,\n",
       "  558115,\n",
       "  558587,\n",
       "  558843,\n",
       "  559589,\n",
       "  560663,\n",
       "  564924,\n",
       "  565657,\n",
       "  566049,\n",
       "  566268,\n",
       "  566332,\n",
       "  566443,\n",
       "  566542,\n",
       "  567511,\n",
       "  567718,\n",
       "  569442,\n",
       "  570641,\n",
       "  570892,\n",
       "  572404,\n",
       "  572809,\n",
       "  572940,\n",
       "  575171,\n",
       "  576406,\n",
       "  576809,\n",
       "  576840,\n",
       "  577782,\n",
       "  579608,\n",
       "  579864,\n",
       "  580366,\n",
       "  580699,\n",
       "  582698,\n",
       "  585000,\n",
       "  587215,\n",
       "  587960,\n",
       "  589459,\n",
       "  589484,\n",
       "  590126,\n",
       "  590585,\n",
       "  591029,\n",
       "  592945,\n",
       "  595437,\n",
       "  596405,\n",
       "  597462,\n",
       "  597874,\n",
       "  599399,\n",
       "  600680,\n",
       "  601022,\n",
       "  601171,\n",
       "  601334,\n",
       "  601901,\n",
       "  602357,\n",
       "  602676,\n",
       "  603505,\n",
       "  604327,\n",
       "  604464,\n",
       "  604834,\n",
       "  605835,\n",
       "  605836,\n",
       "  606407,\n",
       "  606483,\n",
       "  606832,\n",
       "  607176,\n",
       "  608758,\n",
       "  609476,\n",
       "  610450,\n",
       "  611705,\n",
       "  611955,\n",
       "  612044,\n",
       "  612466,\n",
       "  613638,\n",
       "  614011,\n",
       "  614346,\n",
       "  615199,\n",
       "  617050,\n",
       "  617235,\n",
       "  618541,\n",
       "  618570,\n",
       "  620294,\n",
       "  622354,\n",
       "  622455,\n",
       "  622651,\n",
       "  624268,\n",
       "  625429,\n",
       "  626092,\n",
       "  628305,\n",
       "  629089,\n",
       "  629305,\n",
       "  630045,\n",
       "  631288,\n",
       "  632337,\n",
       "  632424,\n",
       "  633386,\n",
       "  633847,\n",
       "  636718,\n",
       "  637147,\n",
       "  637489,\n",
       "  638405,\n",
       "  640307,\n",
       "  640407,\n",
       "  644058,\n",
       "  644207,\n",
       "  644699,\n",
       "  646471,\n",
       "  647139,\n",
       "  648640,\n",
       "  648901,\n",
       "  649385,\n",
       "  650211,\n",
       "  651394,\n",
       "  651865,\n",
       "  652278,\n",
       "  653239,\n",
       "  655256,\n",
       "  657001,\n",
       "  657306,\n",
       "  658132,\n",
       "  658192,\n",
       "  662357,\n",
       "  662739,\n",
       "  663747,\n",
       "  664145,\n",
       "  665861,\n",
       "  665897,\n",
       "  666468,\n",
       "  666519,\n",
       "  666787,\n",
       "  666811,\n",
       "  668709,\n",
       "  670039,\n",
       "  673806,\n",
       "  675264,\n",
       "  675340,\n",
       "  678082,\n",
       "  680559,\n",
       "  681790,\n",
       "  683388,\n",
       "  683882,\n",
       "  684614,\n",
       "  685242,\n",
       "  688263,\n",
       "  688540,\n",
       "  689211,\n",
       "  691808,\n",
       "  692835,\n",
       "  693396,\n",
       "  693818,\n",
       "  694210,\n",
       "  695010,\n",
       "  698707,\n",
       "  700742,\n",
       "  703478,\n",
       "  704469,\n",
       "  705730,\n",
       "  706201,\n",
       "  707130,\n",
       "  707469,\n",
       "  707856,\n",
       "  708541,\n",
       "  709311,\n",
       "  712309,\n",
       "  712800,\n",
       "  713705,\n",
       "  718944,\n",
       "  720414,\n",
       "  720428,\n",
       "  720892,\n",
       "  721232,\n",
       "  721634,\n",
       "  722861,\n",
       "  724765,\n",
       "  725060,\n",
       "  726159,\n",
       "  727724,\n",
       "  729513,\n",
       "  730818,\n",
       "  731386,\n",
       "  731908,\n",
       "  732546,\n",
       "  732553,\n",
       "  732744,\n",
       "  733164,\n",
       "  733745,\n",
       "  733986,\n",
       "  735309,\n",
       "  735540,\n",
       "  735641,\n",
       "  735765,\n",
       "  738054,\n",
       "  738741,\n",
       "  739678,\n",
       "  739772,\n",
       "  739852,\n",
       "  742103,\n",
       "  742237,\n",
       "  742852,\n",
       "  743266,\n",
       "  743836,\n",
       "  747296,\n",
       "  748204,\n",
       "  749290,\n",
       "  749634,\n",
       "  749974,\n",
       "  753685,\n",
       "  754255,\n",
       "  755562,\n",
       "  756115,\n",
       "  757559,\n",
       "  760963,\n",
       "  761578,\n",
       "  763021,\n",
       "  763481,\n",
       "  763944,\n",
       "  764633,\n",
       "  765424,\n",
       "  770492,\n",
       "  771008,\n",
       "  772365,\n",
       "  773532,\n",
       "  773873,\n",
       "  774177,\n",
       "  774414,\n",
       "  774490,\n",
       "  776702,\n",
       "  777808,\n",
       "  779030,\n",
       "  779428,\n",
       "  780976,\n",
       "  781977,\n",
       "  782108,\n",
       "  782725,\n",
       "  783155,\n",
       "  783886,\n",
       "  784193,\n",
       "  784339,\n",
       "  785429,\n",
       "  787593,\n",
       "  788576,\n",
       "  788729,\n",
       "  788952,\n",
       "  788987,\n",
       "  789604,\n",
       "  790039,\n",
       "  794762,\n",
       "  795517,\n",
       "  796449,\n",
       "  796790,\n",
       "  799680,\n",
       "  802825,\n",
       "  808056,\n",
       "  809547,\n",
       "  813847,\n",
       "  817119,\n",
       "  817226,\n",
       "  817775,\n",
       "  818759,\n",
       "  822937,\n",
       "  824028,\n",
       "  824697,\n",
       "  824830,\n",
       "  825808,\n",
       "  826010,\n",
       "  827286,\n",
       "  827377,\n",
       "  828682,\n",
       "  829109,\n",
       "  831245,\n",
       "  831367,\n",
       "  832290,\n",
       "  833373,\n",
       "  833670,\n",
       "  836561,\n",
       "  836975,\n",
       "  837757,\n",
       "  838930,\n",
       "  839795,\n",
       "  840299,\n",
       "  841553,\n",
       "  842113,\n",
       "  844039,\n",
       "  844189,\n",
       "  844503,\n",
       "  844815,\n",
       "  845043,\n",
       "  845087,\n",
       "  847055,\n",
       "  847166,\n",
       "  848101,\n",
       "  849533,\n",
       "  850271,\n",
       "  850800,\n",
       "  853721,\n",
       "  853743,\n",
       "  854874,\n",
       "  856163,\n",
       "  857073,\n",
       "  857929,\n",
       "  859714,\n",
       "  862880,\n",
       "  863434,\n",
       "  863784,\n",
       "  864253,\n",
       "  864749,\n",
       "  867390,\n",
       "  867675,\n",
       "  869263,\n",
       "  869264,\n",
       "  869338,\n",
       "  869465,\n",
       "  869956,\n",
       "  870590,\n",
       "  871295,\n",
       "  871401,\n",
       "  872095,\n",
       "  872461,\n",
       "  873146,\n",
       "  873827,\n",
       "  873896,\n",
       "  874159,\n",
       "  874988,\n",
       "  875745,\n",
       "  876212,\n",
       "  876724,\n",
       "  878333,\n",
       "  882549,\n",
       "  886068,\n",
       "  887037,\n",
       "  888392,\n",
       "  890355,\n",
       "  891144,\n",
       "  892889,\n",
       "  893434,\n",
       "  893578,\n",
       "  895582,\n",
       "  896836,\n",
       "  898279,\n",
       "  899164,\n",
       "  902989,\n",
       "  904160,\n",
       "  904180,\n",
       "  904446,\n",
       "  906799,\n",
       "  907214,\n",
       "  907290,\n",
       "  907827,\n",
       "  907889,\n",
       "  909604,\n",
       "  910252,\n",
       "  910936,\n",
       "  911041,\n",
       "  911281,\n",
       "  911540,\n",
       "  912327,\n",
       "  914262,\n",
       "  914924,\n",
       "  916158,\n",
       "  916531,\n",
       "  916663,\n",
       "  917655,\n",
       "  919797,\n",
       "  920006,\n",
       "  921635,\n",
       "  921709,\n",
       "  922001,\n",
       "  923815,\n",
       "  925315,\n",
       "  925322,\n",
       "  926014,\n",
       "  927426,\n",
       "  927452,\n",
       "  927584,\n",
       "  928484,\n",
       "  929727,\n",
       "  929990,\n",
       "  933734,\n",
       "  934111,\n",
       "  934410,\n",
       "  937853,\n",
       "  939654,\n",
       "  939802,\n",
       "  940387,\n",
       "  941777,\n",
       "  942828,\n",
       "  943303,\n",
       "  944474,\n",
       "  945424,\n",
       "  945985,\n",
       "  946128,\n",
       "  947341,\n",
       "  947462,\n",
       "  948959,\n",
       "  949047,\n",
       "  949868,\n",
       "  949931,\n",
       "  951398,\n",
       "  951545,\n",
       "  951885,\n",
       "  953033,\n",
       "  953044,\n",
       "  955394,\n",
       "  955972,\n",
       "  956354,\n",
       "  956971,\n",
       "  957377,\n",
       "  957842,\n",
       "  959110,\n",
       "  959332,\n",
       "  959483,\n",
       "  961261,\n",
       "  962637,\n",
       "  963141,\n",
       "  963411,\n",
       "  963576,\n",
       "  965022,\n",
       "  966839,\n",
       "  967190,\n",
       "  967237,\n",
       "  967530,\n",
       "  968153,\n",
       "  968710,\n",
       "  968826,\n",
       "  971516,\n",
       "  973379,\n",
       "  973550,\n",
       "  974767,\n",
       "  975098,\n",
       "  975417,\n",
       "  975734,\n",
       "  977032,\n",
       "  ...]]"
      ]
     },
     "execution_count": 158,
     "metadata": {},
     "output_type": "execute_result"
    }
   ],
   "source": [
    "y_hat_list"
   ]
  },
  {
   "cell_type": "code",
   "execution_count": 161,
   "metadata": {},
   "outputs": [
    {
     "data": {
      "text/plain": [
       "1"
      ]
     },
     "execution_count": 161,
     "metadata": {},
     "output_type": "execute_result"
    }
   ],
   "source": [
    "y_test.iloc[16771]"
   ]
  },
  {
   "cell_type": "code",
   "execution_count": 160,
   "metadata": {},
   "outputs": [
    {
     "data": {
      "text/plain": [
       "1"
      ]
     },
     "execution_count": 160,
     "metadata": {},
     "output_type": "execute_result"
    }
   ],
   "source": [
    "y_pred[16771]"
   ]
  }
 ],
 "metadata": {
  "kernelspec": {
   "display_name": "Python 3.9.7 ('base')",
   "language": "python",
   "name": "python3"
  },
  "language_info": {
   "codemirror_mode": {
    "name": "ipython",
    "version": 3
   },
   "file_extension": ".py",
   "mimetype": "text/x-python",
   "name": "python",
   "nbconvert_exporter": "python",
   "pygments_lexer": "ipython3",
   "version": "3.9.7"
  },
  "orig_nbformat": 4,
  "vscode": {
   "interpreter": {
    "hash": "40c82f114804a1480aeb27a3c6f7ad070b7bcba24ac6951971befad3bfd46cb3"
   }
  }
 },
 "nbformat": 4,
 "nbformat_minor": 2
}
